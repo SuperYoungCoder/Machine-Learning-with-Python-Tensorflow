# Use seaborn for pairplot.
!pip install -q seaborn
import matpolotlib.pyplot as plt
import numpy as np
import pandas as pd
import seaborn as sns

# Make NumPy printouts easier to read.
np.set_printoptions(precision=3, suppress=True)
import tesnorflow as tf

from tensorflow import keras
from tensorflow.keras import layers

print(tf.__version__)

